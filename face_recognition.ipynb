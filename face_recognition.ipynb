{
  "nbformat": 4,
  "nbformat_minor": 0,
  "metadata": {
    "accelerator": "GPU",
    "colab": {
      "name": "face_recognition.ipynb",
      "provenance": []
    },
    "kernelspec": {
      "display_name": "Python 3",
      "name": "python3"
    },
    "language_info": {
      "name": "python"
    }
  },
  "cells": [
    {
      "cell_type": "code",
      "metadata": {
        "id": "hzyLheanTJdC"
      },
      "source": [
        ""
      ],
      "execution_count": 70,
      "outputs": []
    },
    {
      "cell_type": "markdown",
      "metadata": {
        "id": "OBgZEzO_TL8O"
      },
      "source": [
        "# **Face Recognition in Google Colab**\n"
      ]
    },
    {
      "cell_type": "markdown",
      "metadata": {
        "id": "2t8sgJx5TisG"
      },
      "source": [
        "In this tutorial we are gonna make a real time face recognition model that is gonna recognize a person only by training with one image!!! How cool is that! And this is now possible due the awesome library - \"face-recognition\". "
      ]
    },
    {
      "cell_type": "markdown",
      "metadata": {
        "id": "2NWPjIREUL-V"
      },
      "source": [
        "### Let's install all the necessary libraries at first"
      ]
    },
    {
      "cell_type": "code",
      "metadata": {
        "colab": {
          "base_uri": "https://localhost:8080/"
        },
        "id": "qgfXfA_riiEX",
        "outputId": "961aef5b-d8e0-44eb-cff9-c50bc3dc4b28"
      },
      "source": [
        "pip install cmake"
      ],
      "execution_count": 71,
      "outputs": [
        {
          "output_type": "stream",
          "text": [
            "Requirement already satisfied: cmake in /usr/local/lib/python3.7/dist-packages (3.18.2.post1)\n"
          ],
          "name": "stdout"
        }
      ]
    },
    {
      "cell_type": "code",
      "metadata": {
        "colab": {
          "base_uri": "https://localhost:8080/"
        },
        "id": "HEuyWEMgpGzK",
        "outputId": "3bd90c77-05c8-4153-b24c-166f1f1e8713"
      },
      "source": [
        "pip install dlib"
      ],
      "execution_count": 72,
      "outputs": [
        {
          "output_type": "stream",
          "text": [
            "Requirement already satisfied: dlib in /usr/local/lib/python3.7/dist-packages (19.18.0)\n"
          ],
          "name": "stdout"
        }
      ]
    },
    {
      "cell_type": "code",
      "metadata": {
        "colab": {
          "base_uri": "https://localhost:8080/"
        },
        "id": "0QWRE85zpSEQ",
        "outputId": "aa1c7f9c-d734-42ae-8476-17b0fc6efa52"
      },
      "source": [
        "pip install face_recognition"
      ],
      "execution_count": 73,
      "outputs": [
        {
          "output_type": "stream",
          "text": [
            "Requirement already satisfied: face_recognition in /usr/local/lib/python3.7/dist-packages (1.3.0)\n",
            "Requirement already satisfied: numpy in /usr/local/lib/python3.7/dist-packages (from face_recognition) (1.19.2)\n",
            "Requirement already satisfied: Click>=6.0 in /usr/local/lib/python3.7/dist-packages (from face_recognition) (7.1.2)\n",
            "Requirement already satisfied: Pillow in /usr/local/lib/python3.7/dist-packages (from face_recognition) (8.0.1)\n",
            "Requirement already satisfied: dlib>=19.7 in /usr/local/lib/python3.7/dist-packages (from face_recognition) (19.18.0)\n",
            "Requirement already satisfied: face-recognition-models>=0.3.0 in /usr/local/lib/python3.7/dist-packages (from face_recognition) (0.3.0)\n"
          ],
          "name": "stdout"
        }
      ]
    },
    {
      "cell_type": "code",
      "metadata": {
        "colab": {
          "base_uri": "https://localhost:8080/"
        },
        "id": "jmUZFgiyqBpo",
        "outputId": "46ceb694-dea8-40e6-f32c-aeef20739ff8"
      },
      "source": [
        "pip install opencv-contrib-python"
      ],
      "execution_count": 74,
      "outputs": [
        {
          "output_type": "stream",
          "text": [
            "Requirement already satisfied: opencv-contrib-python in /usr/local/lib/python3.7/dist-packages (4.1.2.30)\n",
            "Requirement already satisfied: numpy>=1.14.5 in /usr/local/lib/python3.7/dist-packages (from opencv-contrib-python) (1.19.2)\n"
          ],
          "name": "stdout"
        }
      ]
    },
    {
      "cell_type": "code",
      "metadata": {
        "colab": {
          "base_uri": "https://localhost:8080/"
        },
        "id": "bbmBO3K3rXfr",
        "outputId": "c4fe76a0-6a14-4d8f-d5f7-5581a41c5dbe"
      },
      "source": [
        "pip install imutils"
      ],
      "execution_count": 75,
      "outputs": [
        {
          "output_type": "stream",
          "text": [
            "Requirement already satisfied: imutils in /usr/local/lib/python3.7/dist-packages (0.5.4)\n"
          ],
          "name": "stdout"
        }
      ]
    },
    {
      "cell_type": "code",
      "metadata": {
        "colab": {
          "base_uri": "https://localhost:8080/"
        },
        "id": "moDCVOReg8zu",
        "outputId": "7a7dcd79-52e6-42e2-be9c-d6b70e0d6d2f"
      },
      "source": [
        "pip install cmake==3.18.2.post1"
      ],
      "execution_count": 76,
      "outputs": [
        {
          "output_type": "stream",
          "text": [
            "Requirement already satisfied: cmake==3.18.2.post1 in /usr/local/lib/python3.7/dist-packages (3.18.2.post1)\n"
          ],
          "name": "stdout"
        }
      ]
    },
    {
      "cell_type": "code",
      "metadata": {
        "colab": {
          "base_uri": "https://localhost:8080/"
        },
        "id": "v4dsx69oA-Ez",
        "outputId": "a6d95983-0536-4381-ae15-b3ba02fcc337"
      },
      "source": [
        "pip install certifi==2020.6.20\n"
      ],
      "execution_count": 77,
      "outputs": [
        {
          "output_type": "stream",
          "text": [
            "Requirement already satisfied: certifi==2020.6.20 in /usr/local/lib/python3.7/dist-packages (2020.6.20)\n"
          ],
          "name": "stdout"
        }
      ]
    },
    {
      "cell_type": "code",
      "metadata": {
        "colab": {
          "base_uri": "https://localhost:8080/"
        },
        "id": "LNnDw3mABjyr",
        "outputId": "2f0a4712-119f-47d7-a2fd-a7363bc3fc48"
      },
      "source": [
        "pip install chardet==3.0.4\n"
      ],
      "execution_count": 78,
      "outputs": [
        {
          "output_type": "stream",
          "text": [
            "Requirement already satisfied: chardet==3.0.4 in /usr/local/lib/python3.7/dist-packages (3.0.4)\n"
          ],
          "name": "stdout"
        }
      ]
    },
    {
      "cell_type": "code",
      "metadata": {
        "colab": {
          "base_uri": "https://localhost:8080/"
        },
        "id": "MswB8pw_BtTM",
        "outputId": "00a69e5e-5ccc-4ab9-f1ab-f4e7ad83bba2"
      },
      "source": [
        "pip install click==7.1.2\n"
      ],
      "execution_count": 79,
      "outputs": [
        {
          "output_type": "stream",
          "text": [
            "Requirement already satisfied: click==7.1.2 in /usr/local/lib/python3.7/dist-packages (7.1.2)\n"
          ],
          "name": "stdout"
        }
      ]
    },
    {
      "cell_type": "code",
      "metadata": {
        "colab": {
          "base_uri": "https://localhost:8080/"
        },
        "id": "0JhZSNerBvuG",
        "outputId": "8fe476ac-a8a8-4d10-b43d-e930064e07ad"
      },
      "source": [
        "pip install cmake==3.18.2.post1\n"
      ],
      "execution_count": 80,
      "outputs": [
        {
          "output_type": "stream",
          "text": [
            "Requirement already satisfied: cmake==3.18.2.post1 in /usr/local/lib/python3.7/dist-packages (3.18.2.post1)\n"
          ],
          "name": "stdout"
        }
      ]
    },
    {
      "cell_type": "code",
      "metadata": {
        "colab": {
          "base_uri": "https://localhost:8080/"
        },
        "id": "2yDhXFZhByv6",
        "outputId": "a475dd17-62af-4c3d-ec6b-9bfb9cea0a79"
      },
      "source": [
        "pip install decorator==4.4.2\n"
      ],
      "execution_count": 81,
      "outputs": [
        {
          "output_type": "stream",
          "text": [
            "Requirement already satisfied: decorator==4.4.2 in /usr/local/lib/python3.7/dist-packages (4.4.2)\n"
          ],
          "name": "stdout"
        }
      ]
    },
    {
      "cell_type": "code",
      "metadata": {
        "colab": {
          "base_uri": "https://localhost:8080/"
        },
        "id": "6Vl5PR1vB1R2",
        "outputId": "19448a0d-cc6a-4f23-dc1f-50124f04492a"
      },
      "source": [
        "pip install dlib==19.18.0\n"
      ],
      "execution_count": 82,
      "outputs": [
        {
          "output_type": "stream",
          "text": [
            "Requirement already satisfied: dlib==19.18.0 in /usr/local/lib/python3.7/dist-packages (19.18.0)\n"
          ],
          "name": "stdout"
        }
      ]
    },
    {
      "cell_type": "code",
      "metadata": {
        "id": "0a4r934JB3wD",
        "colab": {
          "base_uri": "https://localhost:8080/"
        },
        "outputId": "b89ea78c-1d5a-452b-ffee-59273b2fe825"
      },
      "source": [
        "pip install face-recognition==1.3.0\n"
      ],
      "execution_count": 83,
      "outputs": [
        {
          "output_type": "stream",
          "text": [
            "Requirement already satisfied: face-recognition==1.3.0 in /usr/local/lib/python3.7/dist-packages (1.3.0)\n",
            "Requirement already satisfied: Pillow in /usr/local/lib/python3.7/dist-packages (from face-recognition==1.3.0) (8.0.1)\n",
            "Requirement already satisfied: numpy in /usr/local/lib/python3.7/dist-packages (from face-recognition==1.3.0) (1.19.2)\n",
            "Requirement already satisfied: dlib>=19.7 in /usr/local/lib/python3.7/dist-packages (from face-recognition==1.3.0) (19.18.0)\n",
            "Requirement already satisfied: Click>=6.0 in /usr/local/lib/python3.7/dist-packages (from face-recognition==1.3.0) (7.1.2)\n",
            "Requirement already satisfied: face-recognition-models>=0.3.0 in /usr/local/lib/python3.7/dist-packages (from face-recognition==1.3.0) (0.3.0)\n"
          ],
          "name": "stdout"
        }
      ]
    },
    {
      "cell_type": "code",
      "metadata": {
        "id": "EXX_oIj3B6We",
        "colab": {
          "base_uri": "https://localhost:8080/"
        },
        "outputId": "9568da64-fc01-4a6a-a352-344c26b845a7"
      },
      "source": [
        "pip install face-recognition-models==0.3.0\n"
      ],
      "execution_count": 84,
      "outputs": [
        {
          "output_type": "stream",
          "text": [
            "Requirement already satisfied: face-recognition-models==0.3.0 in /usr/local/lib/python3.7/dist-packages (0.3.0)\n"
          ],
          "name": "stdout"
        }
      ]
    },
    {
      "cell_type": "code",
      "metadata": {
        "id": "Dp1TZBemCEOi",
        "colab": {
          "base_uri": "https://localhost:8080/"
        },
        "outputId": "6cdb2b4b-a335-4101-920f-aaec1000d49c"
      },
      "source": [
        "pip install idna==2.10\n"
      ],
      "execution_count": 85,
      "outputs": [
        {
          "output_type": "stream",
          "text": [
            "Requirement already satisfied: idna==2.10 in /usr/local/lib/python3.7/dist-packages (2.10)\n"
          ],
          "name": "stdout"
        }
      ]
    },
    {
      "cell_type": "code",
      "metadata": {
        "id": "IG-VwAIpCGpb",
        "colab": {
          "base_uri": "https://localhost:8080/"
        },
        "outputId": "c141929b-fbd3-42e6-8f3d-e6286339cde2"
      },
      "source": [
        "pip install imageio==2.9.0\n"
      ],
      "execution_count": 86,
      "outputs": [
        {
          "output_type": "stream",
          "text": [
            "Requirement already satisfied: imageio==2.9.0 in /usr/local/lib/python3.7/dist-packages (2.9.0)\n",
            "Requirement already satisfied: numpy in /usr/local/lib/python3.7/dist-packages (from imageio==2.9.0) (1.19.2)\n",
            "Requirement already satisfied: pillow in /usr/local/lib/python3.7/dist-packages (from imageio==2.9.0) (8.0.1)\n"
          ],
          "name": "stdout"
        }
      ]
    },
    {
      "cell_type": "code",
      "metadata": {
        "id": "7FdPcZi9CI2H",
        "colab": {
          "base_uri": "https://localhost:8080/"
        },
        "outputId": "2921b6fc-f9d6-46e3-a8d6-e0cafa2f2e30"
      },
      "source": [
        "pip install imageio-ffmpeg==0.4.2\n"
      ],
      "execution_count": 87,
      "outputs": [
        {
          "output_type": "stream",
          "text": [
            "Requirement already satisfied: imageio-ffmpeg==0.4.2 in /usr/local/lib/python3.7/dist-packages (0.4.2)\n"
          ],
          "name": "stdout"
        }
      ]
    },
    {
      "cell_type": "code",
      "metadata": {
        "id": "E1g_FlttCMTX",
        "colab": {
          "base_uri": "https://localhost:8080/"
        },
        "outputId": "c73c09b0-04b4-4d71-97f9-8682d1a3c7c6"
      },
      "source": [
        "pip install moviepy==1.0.3\n"
      ],
      "execution_count": 88,
      "outputs": [
        {
          "output_type": "stream",
          "text": [
            "Requirement already satisfied: moviepy==1.0.3 in /usr/local/lib/python3.7/dist-packages (1.0.3)\n",
            "Requirement already satisfied: imageio<3.0,>=2.5; python_version >= \"3.4\" in /usr/local/lib/python3.7/dist-packages (from moviepy==1.0.3) (2.9.0)\n",
            "Requirement already satisfied: numpy; python_version >= \"2.7\" in /usr/local/lib/python3.7/dist-packages (from moviepy==1.0.3) (1.19.2)\n",
            "Requirement already satisfied: requests<3.0,>=2.8.1 in /usr/local/lib/python3.7/dist-packages (from moviepy==1.0.3) (2.23.0)\n",
            "Requirement already satisfied: tqdm<5.0,>=4.11.2 in /usr/local/lib/python3.7/dist-packages (from moviepy==1.0.3) (4.51.0)\n",
            "Requirement already satisfied: proglog<=1.0.0 in /usr/local/lib/python3.7/dist-packages (from moviepy==1.0.3) (0.1.9)\n",
            "Requirement already satisfied: imageio-ffmpeg>=0.2.0; python_version >= \"3.4\" in /usr/local/lib/python3.7/dist-packages (from moviepy==1.0.3) (0.4.2)\n",
            "Requirement already satisfied: decorator<5.0,>=4.0.2 in /usr/local/lib/python3.7/dist-packages (from moviepy==1.0.3) (4.4.2)\n",
            "Requirement already satisfied: pillow in /usr/local/lib/python3.7/dist-packages (from imageio<3.0,>=2.5; python_version >= \"3.4\"->moviepy==1.0.3) (8.0.1)\n",
            "Requirement already satisfied: idna<3,>=2.5 in /usr/local/lib/python3.7/dist-packages (from requests<3.0,>=2.8.1->moviepy==1.0.3) (2.10)\n",
            "Requirement already satisfied: chardet<4,>=3.0.2 in /usr/local/lib/python3.7/dist-packages (from requests<3.0,>=2.8.1->moviepy==1.0.3) (3.0.4)\n",
            "Requirement already satisfied: certifi>=2017.4.17 in /usr/local/lib/python3.7/dist-packages (from requests<3.0,>=2.8.1->moviepy==1.0.3) (2020.6.20)\n",
            "Requirement already satisfied: urllib3!=1.25.0,!=1.25.1,<1.26,>=1.21.1 in /usr/local/lib/python3.7/dist-packages (from requests<3.0,>=2.8.1->moviepy==1.0.3) (1.25.11)\n"
          ],
          "name": "stdout"
        }
      ]
    },
    {
      "cell_type": "code",
      "metadata": {
        "id": "KuL-xZxcCQBL",
        "colab": {
          "base_uri": "https://localhost:8080/"
        },
        "outputId": "fc540629-edab-430d-8da8-f81e3a2a0232"
      },
      "source": [
        "pip install numpy==1.19.2\n"
      ],
      "execution_count": 89,
      "outputs": [
        {
          "output_type": "stream",
          "text": [
            "Requirement already satisfied: numpy==1.19.2 in /usr/local/lib/python3.7/dist-packages (1.19.2)\n"
          ],
          "name": "stdout"
        }
      ]
    },
    {
      "cell_type": "code",
      "metadata": {
        "id": "jJ-jlX-cCYln",
        "colab": {
          "base_uri": "https://localhost:8080/"
        },
        "outputId": "8bea1165-df04-4cfb-a492-a3ba21edb7ed"
      },
      "source": [
        "pip install opencv-python==4.4.0.46\n"
      ],
      "execution_count": 90,
      "outputs": [
        {
          "output_type": "stream",
          "text": [
            "Requirement already satisfied: opencv-python==4.4.0.46 in /usr/local/lib/python3.7/dist-packages (4.4.0.46)\n",
            "Requirement already satisfied: numpy>=1.14.5 in /usr/local/lib/python3.7/dist-packages (from opencv-python==4.4.0.46) (1.19.2)\n"
          ],
          "name": "stdout"
        }
      ]
    },
    {
      "cell_type": "code",
      "metadata": {
        "id": "T2WyD3dnCqmR",
        "colab": {
          "base_uri": "https://localhost:8080/"
        },
        "outputId": "6393bf2e-518c-4e1d-bcaf-1b2852932f41"
      },
      "source": [
        "pip install Pillow==8.0.1\n"
      ],
      "execution_count": 91,
      "outputs": [
        {
          "output_type": "stream",
          "text": [
            "Requirement already satisfied: Pillow==8.0.1 in /usr/local/lib/python3.7/dist-packages (8.0.1)\n"
          ],
          "name": "stdout"
        }
      ]
    },
    {
      "cell_type": "code",
      "metadata": {
        "id": "LFxnkdkiCy59",
        "colab": {
          "base_uri": "https://localhost:8080/"
        },
        "outputId": "1fbb8362-de2c-4d6f-e791-a77ddb87e448"
      },
      "source": [
        "pip install proglog==0.1.9\n"
      ],
      "execution_count": 92,
      "outputs": [
        {
          "output_type": "stream",
          "text": [
            "Requirement already satisfied: proglog==0.1.9 in /usr/local/lib/python3.7/dist-packages (0.1.9)\n",
            "Requirement already satisfied: tqdm in /usr/local/lib/python3.7/dist-packages (from proglog==0.1.9) (4.51.0)\n"
          ],
          "name": "stdout"
        }
      ]
    },
    {
      "cell_type": "code",
      "metadata": {
        "id": "DadL4AoDC67A",
        "colab": {
          "base_uri": "https://localhost:8080/"
        },
        "outputId": "0c71ef4b-3533-4108-87d8-8f008dce2863"
      },
      "source": [
        "pip install requests==2.23.0\n"
      ],
      "execution_count": 93,
      "outputs": [
        {
          "output_type": "stream",
          "text": [
            "Requirement already satisfied: requests==2.23.0 in /usr/local/lib/python3.7/dist-packages (2.23.0)\n",
            "Requirement already satisfied: chardet<4,>=3.0.2 in /usr/local/lib/python3.7/dist-packages (from requests==2.23.0) (3.0.4)\n",
            "Requirement already satisfied: certifi>=2017.4.17 in /usr/local/lib/python3.7/dist-packages (from requests==2.23.0) (2020.6.20)\n",
            "Requirement already satisfied: idna<3,>=2.5 in /usr/local/lib/python3.7/dist-packages (from requests==2.23.0) (2.10)\n",
            "Requirement already satisfied: urllib3!=1.25.0,!=1.25.1,<1.26,>=1.21.1 in /usr/local/lib/python3.7/dist-packages (from requests==2.23.0) (1.25.11)\n"
          ],
          "name": "stdout"
        }
      ]
    },
    {
      "cell_type": "code",
      "metadata": {
        "id": "kTcxAyAcC9Y2",
        "colab": {
          "base_uri": "https://localhost:8080/"
        },
        "outputId": "cdc068d1-9bc3-4c04-92bd-63bb21301dd4"
      },
      "source": [
        "pip install tqdm==4.51.0\n"
      ],
      "execution_count": 94,
      "outputs": [
        {
          "output_type": "stream",
          "text": [
            "Requirement already satisfied: tqdm==4.51.0 in /usr/local/lib/python3.7/dist-packages (4.51.0)\n"
          ],
          "name": "stdout"
        }
      ]
    },
    {
      "cell_type": "code",
      "metadata": {
        "id": "Bs1PBa2oDG7K",
        "colab": {
          "base_uri": "https://localhost:8080/"
        },
        "outputId": "e3566267-f841-4bde-d57c-1f4cb429ddc1"
      },
      "source": [
        "pip install urllib3==1.25.11\n"
      ],
      "execution_count": 95,
      "outputs": [
        {
          "output_type": "stream",
          "text": [
            "Requirement already satisfied: urllib3==1.25.11 in /usr/local/lib/python3.7/dist-packages (1.25.11)\n"
          ],
          "name": "stdout"
        }
      ]
    },
    {
      "cell_type": "code",
      "metadata": {
        "id": "KX1R7s4BDJLE",
        "colab": {
          "base_uri": "https://localhost:8080/"
        },
        "outputId": "48e35984-5dae-42a3-8075-fa3f9a98f98e"
      },
      "source": [
        "pip install wincertstore==0.2"
      ],
      "execution_count": 96,
      "outputs": [
        {
          "output_type": "stream",
          "text": [
            "Requirement already satisfied: wincertstore==0.2 in /usr/local/lib/python3.7/dist-packages (0.2)\n"
          ],
          "name": "stdout"
        }
      ]
    },
    {
      "cell_type": "markdown",
      "metadata": {
        "id": "94qDYuIgUZVc"
      },
      "source": [
        "### Now let's import all those libraries"
      ]
    },
    {
      "cell_type": "code",
      "metadata": {
        "id": "fRY23DFPUhvh"
      },
      "source": [
        "from IPython.display import display, Javascript, Image\n",
        "from google.colab.output import eval_js\n",
        "from base64 import b64decode, b64encode\n",
        "import cv2\n",
        "import numpy as np\n",
        "import PIL\n",
        "import io\n",
        "import html\n",
        "import time\n",
        "import face_recognition\n",
        "import os\n",
        "from datetime import datetime\n"
      ],
      "execution_count": 97,
      "outputs": []
    },
    {
      "cell_type": "markdown",
      "metadata": {
        "id": "836Uo4yXU1dA"
      },
      "source": [
        "### It's time to write some code. \n",
        "If you are visiting my repo for the first time then let me tell you that I always do some tricky project so that I can learn something new and let other's have that same opportunity. I have chosen this project because I wanted to test how good face-recognition library is and also wanted to learn to access local device from cloud. Yes, as this project is being built on google colab which is a could platform, accessing my local webcam is a bit tricky here. For that I need to write JS code. Let's get on with this then."
      ]
    },
    {
      "cell_type": "code",
      "metadata": {
        "id": "wvD8sZdwXysJ"
      },
      "source": [
        "# function to convert the JavaScript object into an OpenCV image\n",
        "def js_to_image(js_reply):\n",
        "  \"\"\"\n",
        "  Params:\n",
        "          js_reply: JavaScript object containing image from webcam\n",
        "  Returns:\n",
        "          img: OpenCV BGR image\n",
        "  \"\"\"\n",
        "  # decode base64 image\n",
        "  image_bytes = b64decode(js_reply.split(',')[1])\n",
        "  # convert bytes to numpy array\n",
        "  img_as_array = np.frombuffer(image_bytes, dtype=np.uint8)\n",
        "  # decode numpy array into OpenCV BGR image\n",
        "  img = cv2.imdecode(img_as_array, flags=1)\n",
        "\n",
        "  return img"
      ],
      "execution_count": 98,
      "outputs": []
    },
    {
      "cell_type": "markdown",
      "metadata": {
        "id": "kWvv9w9CYG3X"
      },
      "source": [
        "In the above function, we are converting a JS object into an OpenCV image. By using b64decode library we are decoding the JS object into binary bytes. Then converting it into numpy array and from there we are again decoding it to image format. "
      ]
    },
    {
      "cell_type": "code",
      "metadata": {
        "id": "gDyN0UqIfDoY"
      },
      "source": [
        "# function to convert OpenCV Rectangle bounding box image into base64 byte string to be overlayed on video stream\n",
        "def bbox_to_bytes(bbox_array):\n",
        "  \"\"\"\n",
        "  Params:\n",
        "          bbox_array: Numpy array (pixels) containing rectangle to overlay on video stream.\n",
        "  Returns:\n",
        "        bytes: Base64 image byte string\n",
        "  \"\"\"\n",
        "  # convert array into PIL image\n",
        "  bbox_PIL = PIL.Image.fromarray(bbox_array, 'RGBA')\n",
        "  iobuf = io.BytesIO()\n",
        "  # format bbox into png for return\n",
        "  bbox_PIL.save(iobuf, format='png')\n",
        "  # format return string\n",
        "  bbox_bytes = 'data:image/png;base64,{}'.format((str(b64encode(iobuf.getvalue()), 'utf-8')))\n",
        "\n",
        "  return bbox_bytes"
      ],
      "execution_count": 99,
      "outputs": []
    },
    {
      "cell_type": "markdown",
      "metadata": {
        "id": "U9iY-uvhfJ-e"
      },
      "source": [
        "This function will create an overlayed image of rectagular shape. We will add this image into the normal image captured by the webcam so that we can show the detected region into the image. "
      ]
    },
    {
      "cell_type": "code",
      "metadata": {
        "id": "gbNAKftuJldp"
      },
      "source": [
        "def take_photo(filename='captured_image.jpg', quality=0.8):\n",
        "  js = Javascript('''\n",
        "    async function takePhoto(quality) {\n",
        "      const div = document.createElement('div');\n",
        "      const capture = document.createElement('button');\n",
        "      capture.textContent = 'Capture';\n",
        "\n",
        "      const video = document.createElement('video');\n",
        "      video.style.display = 'block';\n",
        "      const stream = await navigator.mediaDevices.getUserMedia({video: true});\n",
        "\n",
        "      document.body.appendChild(div);\n",
        "      div.appendChild(video);\n",
        "      video.srcObject = stream;\n",
        "      div.appendChild(capture);\n",
        "      await video.play();\n",
        "\n",
        "      // Resize the output to fit the video element.\n",
        "      google.colab.output.setIframeHeight(document.documentElement.scrollHeight, true);\n",
        "\n",
        "      // Wait for Capture to be clicked.\n",
        "      await new Promise((resolve) => capture.onclick = resolve);\n",
        "\n",
        "      const canvas = document.createElement('canvas');\n",
        "      canvas.width = video.videoWidth;\n",
        "      canvas.height = video.videoHeight;\n",
        "      canvas.getContext('2d').drawImage(video, 0, 0);\n",
        "      stream.getVideoTracks()[0].stop();\n",
        "      div.remove();\n",
        "      return canvas.toDataURL('image/jpeg', quality);\n",
        "    }\n",
        "    ''')\n",
        "  display(js)\n",
        "\n",
        "  # get photo data\n",
        "  data = eval_js('takePhoto({})'.format(quality))\n",
        "  # get OpenCV format image\n",
        "  img = js_to_image(data) \n",
        "  # grayscale img\n",
        "  gray = cv2.cvtColor(img, cv2.COLOR_RGB2GRAY)\n",
        "  imgS = cv2.resize(img, (0, 0), None, 0.25, 0.25)\n",
        "  imgS = cv2.cvtColor(imgS, cv2.COLOR_BGR2RGB)\n",
        "  print(gray.shape)\n",
        "  # get face bounding box coordinates using face-recognition library\n",
        "\n",
        "  facesCurFrame = face_recognition.face_locations(imgS)\n",
        "  encodesCurFrame = face_recognition.face_encodings(imgS, facesCurFrame)\n",
        "\n",
        "  for encodeFace, faceLoc in zip(encodesCurFrame, facesCurFrame):\n",
        "    matches = face_recognition.compare_faces(encodeListKnown, encodeFace)\n",
        "    faceDis = face_recognition.face_distance(encodeListKnown, encodeFace)\n",
        "    matchIndex = np.argmin(faceDis)\n",
        "\n",
        "\n",
        "    if matches[matchIndex]:\n",
        "      name = classNames[matchIndex].upper()\n",
        "      # draw face bounding box on image\n",
        "      y1, x2, y2, x1 = faceLoc\n",
        "      y1, x2, y2, x1 = y1 * 4, x2 * 4, y2 * 4, x1 * 4\n",
        "      img = cv2.rectangle(img, (x1, y1), (x2, y2), (0, 255, 0), 2)\n",
        "      img = cv2.rectangle(img, (x1, y2 - 35), (x2, y2), (0, 255, 0), cv2.FILLED)\n",
        "      img = cv2.putText(img, name, (x1 + 6, y2 - 6), cv2.FONT_HERSHEY_COMPLEX, 1, (255, 255, 255), 2)\n",
        "          \n",
        "\n",
        "    else:\n",
        "      print(\"Face is not detecting\")\n",
        " \n",
        "  # save image\n",
        "  cv2.imwrite(filename, img)\n",
        "\n",
        "  return filename\n",
        "\n"
      ],
      "execution_count": 100,
      "outputs": []
    },
    {
      "cell_type": "markdown",
      "metadata": {
        "id": "6yWcKQb5hyQX"
      },
      "source": [
        "In this function we are using JS to take picture using our webcam. Then we are using face-recognition library to detect the face and putting rectangle box into that image using openCV. \n",
        "\n",
        "To give users a feel of real time we are taking a video stream also. When the user clicks on the capture button only then the image is taken and shown."
      ]
    },
    {
      "cell_type": "code",
      "metadata": {
        "id": "bpnpxPHbDLIK",
        "colab": {
          "base_uri": "https://localhost:8080/",
          "height": 532
        },
        "outputId": "bfa939f8-3d68-42ca-f81b-384668d63933"
      },
      "source": [
        "\n",
        "try:\n",
        "  filename = take_photo()\n",
        "  print('Saved to {}'.format(filename))\n",
        "  \n",
        "  # Show the image which was just taken.\n",
        "  display(Image(filename))\n",
        "except Exception as err:\n",
        "  # Errors will be thrown if the user does not have a webcam or if they do not\n",
        "  # grant the page permission to access it.\n",
        "  print(str(err))"
      ],
      "execution_count": 101,
      "outputs": [
        {
          "output_type": "display_data",
          "data": {
            "application/javascript": [
              "\n",
              "    async function takePhoto(quality) {\n",
              "      const div = document.createElement('div');\n",
              "      const capture = document.createElement('button');\n",
              "      capture.textContent = 'Capture';\n",
              "\n",
              "      const video = document.createElement('video');\n",
              "      video.style.display = 'block';\n",
              "      const stream = await navigator.mediaDevices.getUserMedia({video: true});\n",
              "\n",
              "      document.body.appendChild(div);\n",
              "      div.appendChild(video);\n",
              "      video.srcObject = stream;\n",
              "      div.appendChild(capture);\n",
              "      await video.play();\n",
              "\n",
              "      // Resize the output to fit the video element.\n",
              "      google.colab.output.setIframeHeight(document.documentElement.scrollHeight, true);\n",
              "\n",
              "      // Wait for Capture to be clicked.\n",
              "      await new Promise((resolve) => capture.onclick = resolve);\n",
              "\n",
              "      const canvas = document.createElement('canvas');\n",
              "      canvas.width = video.videoWidth;\n",
              "      canvas.height = video.videoHeight;\n",
              "      canvas.getContext('2d').drawImage(video, 0, 0);\n",
              "      stream.getVideoTracks()[0].stop();\n",
              "      div.remove();\n",
              "      return canvas.toDataURL('image/jpeg', quality);\n",
              "    }\n",
              "    "
            ],
            "text/plain": [
              "<IPython.core.display.Javascript object>"
            ]
          },
          "metadata": {
            "tags": []
          }
        },
        {
          "output_type": "stream",
          "text": [
            "(480, 640)\n",
            "Saved to captured_image.jpg\n"
          ],
          "name": "stdout"
        },
        {
          "output_type": "display_data",
          "data": {
            "image/jpeg": "[encoded data removed]",
            "text/plain": [
              "<IPython.core.display.Image object>"
            ]
          },
          "metadata": {
            "tags": []
          }
        }
      ]
    },
    {
      "cell_type": "code",
      "metadata": {
        "id": "8d423l-WxSMD"
      },
      "source": [
        "# JavaScript to properly create our live video stream using our webcam as input\n",
        "def video_stream():\n",
        "  js = Javascript('''\n",
        "    var video;\n",
        "    var div = null;\n",
        "    var stream;\n",
        "    var captureCanvas;\n",
        "    var imgElement;\n",
        "    var labelElement;\n",
        "    \n",
        "    var pendingResolve = null;\n",
        "    var shutdown = false;\n",
        "    \n",
        "    function removeDom() {\n",
        "       stream.getVideoTracks()[0].stop();\n",
        "       video.remove();\n",
        "       div.remove();\n",
        "       video = null;\n",
        "       div = null;\n",
        "       stream = null;\n",
        "       imgElement = null;\n",
        "       captureCanvas = null;\n",
        "       labelElement = null;\n",
        "    }\n",
        "    \n",
        "    function onAnimationFrame() {\n",
        "      if (!shutdown) {\n",
        "        window.requestAnimationFrame(onAnimationFrame);\n",
        "      }\n",
        "      if (pendingResolve) {\n",
        "        var result = \"\";\n",
        "        if (!shutdown) {\n",
        "          captureCanvas.getContext('2d').drawImage(video, 0, 0, 640, 480);\n",
        "          result = captureCanvas.toDataURL('image/jpeg', 0.8)\n",
        "        }\n",
        "        var lp = pendingResolve;\n",
        "        pendingResolve = null;\n",
        "        lp(result);\n",
        "      }\n",
        "    }\n",
        "    \n",
        "    async function createDom() {\n",
        "      if (div !== null) {\n",
        "        return stream;\n",
        "      }\n",
        "\n",
        "      div = document.createElement('div');\n",
        "      div.style.border = '2px solid black';\n",
        "      div.style.padding = '3px';\n",
        "      div.style.width = '100%';\n",
        "      div.style.maxWidth = '600px';\n",
        "      document.body.appendChild(div);\n",
        "      \n",
        "      const modelOut = document.createElement('div');\n",
        "      modelOut.innerHTML = \"<span>Status:</span>\";\n",
        "      labelElement = document.createElement('span');\n",
        "      labelElement.innerText = 'No data';\n",
        "      labelElement.style.fontWeight = 'bold';\n",
        "      modelOut.appendChild(labelElement);\n",
        "      div.appendChild(modelOut);\n",
        "           \n",
        "      video = document.createElement('video');\n",
        "      video.style.display = 'block';\n",
        "      video.width = div.clientWidth - 6;\n",
        "      video.setAttribute('playsinline', '');\n",
        "      video.onclick = () => { shutdown = true; };\n",
        "      stream = await navigator.mediaDevices.getUserMedia(\n",
        "          {video: { facingMode: \"environment\"}});\n",
        "      div.appendChild(video);\n",
        "\n",
        "      imgElement = document.createElement('img');\n",
        "      imgElement.style.position = 'absolute';\n",
        "      imgElement.style.zIndex = 1;\n",
        "      imgElement.onclick = () => { shutdown = true; };\n",
        "      div.appendChild(imgElement);\n",
        "      \n",
        "      const instruction = document.createElement('div');\n",
        "      instruction.innerHTML = \n",
        "          '<span style=\"color: red; font-weight: bold;\">' +\n",
        "          'When finished, click here or on the video to stop this demo</span>';\n",
        "      div.appendChild(instruction);\n",
        "      instruction.onclick = () => { shutdown = true; };\n",
        "      \n",
        "      video.srcObject = stream;\n",
        "      await video.play();\n",
        "\n",
        "      captureCanvas = document.createElement('canvas');\n",
        "      captureCanvas.width = 640; //video.videoWidth;\n",
        "      captureCanvas.height = 480; //video.videoHeight;\n",
        "      window.requestAnimationFrame(onAnimationFrame);\n",
        "      \n",
        "      return stream;\n",
        "    }\n",
        "    async function stream_frame(label, imgData) {\n",
        "      if (shutdown) {\n",
        "        removeDom();\n",
        "        shutdown = false;\n",
        "        return '';\n",
        "      }\n",
        "\n",
        "      var preCreate = Date.now();\n",
        "      stream = await createDom();\n",
        "      \n",
        "      var preShow = Date.now();\n",
        "      if (label != \"\") {\n",
        "        labelElement.innerHTML = label;\n",
        "      }\n",
        "            \n",
        "      if (imgData != \"\") {\n",
        "        var videoRect = video.getClientRects()[0];\n",
        "        imgElement.style.top = videoRect.top + \"px\";\n",
        "        imgElement.style.left = videoRect.left + \"px\";\n",
        "        imgElement.style.width = videoRect.width + \"px\";\n",
        "        imgElement.style.height = videoRect.height + \"px\";\n",
        "        imgElement.src = imgData;\n",
        "      }\n",
        "      \n",
        "      var preCapture = Date.now();\n",
        "      var result = await new Promise(function(resolve, reject) {\n",
        "        pendingResolve = resolve;\n",
        "      });\n",
        "      shutdown = false;\n",
        "      \n",
        "      return {'create': preShow - preCreate, \n",
        "              'show': preCapture - preShow, \n",
        "              'capture': Date.now() - preCapture,\n",
        "              'img': result};\n",
        "    }\n",
        "    ''')\n",
        "\n",
        "  display(js)\n",
        "  \n",
        "def video_frame(label, bbox):\n",
        "  data = eval_js('stream_frame(\"{}\", \"{}\")'.format(label, bbox))\n",
        "  return data"
      ],
      "execution_count": 102,
      "outputs": []
    },
    {
      "cell_type": "markdown",
      "metadata": {
        "id": "1uNPqUJKiccI"
      },
      "source": [
        "This is our main function of today's tutorial. Using this JS based function we are taking real time video stream from our local webcam. If you do this project into your local IDE then this function will take only 2 lines of code in python. But as we are using cloud, we cannot not access our webcam using that code. For that we need to use this JS code. You can change the shape of the video screen and quality and everything as per your wish. Just remember that the screen size should be proportional. Because we want to overlay our detected rectangular box into the video screen here. If the size does not match with the image then it will not show at the right position. "
      ]
    },
    {
      "cell_type": "markdown",
      "metadata": {
        "id": "wCRYH4NOjUMm"
      },
      "source": [
        "### Now it's time to train our model and show the real time face detection"
      ]
    },
    {
      "cell_type": "code",
      "metadata": {
        "colab": {
          "base_uri": "https://localhost:8080/",
          "height": 70
        },
        "id": "nCxyN628xjtG",
        "outputId": "80c7744b-cc0f-4ad7-ff1e-a7d4ef39dc0d"
      },
      "source": [
        "# start streaming video from webcam\n",
        "video_stream()\n",
        "# label for video\n",
        "label_html = 'Streaming...'\n",
        "# initialze bounding box to empty\n",
        "bbox = ''\n",
        "count = 0 \n",
        "\n",
        "\n",
        "\n",
        "# from PIL import ImageGrab\n",
        "\n",
        "path = '/media'\n",
        "images = []\n",
        "imageNames = []\n",
        "imageList = os.listdir(path)\n",
        "print(imageList)\n",
        "for image in imageList:\n",
        "    currentImg = cv2.imread(f'{path}/{image}')\n",
        "    images.append(currentImg)\n",
        "    imageNames.append(os.path.splitext(image)[0])\n",
        "print(imageNames)\n",
        "\n",
        "\n",
        "def findEncodings(images):\n",
        "    encodeList = []\n",
        "    for img in images:\n",
        "        img = cv2.cvtColor(img, cv2.COLOR_BGR2RGB)\n",
        "        encode = face_recognition.face_encodings(img)[0]\n",
        "        encodeList.append(encode)\n",
        "    print('Encoding Complete')\n",
        "    return encodeList\n",
        "\n",
        "\n",
        "\n",
        "#### FOR CAPTURING SCREEN RATHER THAN WEBCAM\n",
        "#def captureScreen(bbox=(300,300,690+300,530+300)):\n",
        "  #capScr = np.array(ImageGrab.grab(bbox))\n",
        "  #capScr = cv2.cvtColor(capScr, cv2.COLOR_RGB2BGR)\n",
        "  #return capScr\n",
        "\n",
        "encodeListKnown = findEncodings(images)\n",
        "\n",
        "\n",
        "while True:\n",
        "    js_reply = video_frame(label_html, bbox)\n",
        "    if not js_reply:\n",
        "        break\n",
        "\n",
        "    # convert JS response to OpenCV Image\n",
        "    img = js_to_image(js_reply[\"img\"])\n",
        "\n",
        "    # create transparent overlay for bounding box\n",
        "    bbox_array = np.zeros([480,640,4], dtype=np.uint8)\n",
        "\n",
        "\n",
        "    #gray = cv2.cvtColor(img, cv2.COLOR_RGB2GRAY)\n",
        "    imgS = cv2.resize(img, (0, 0), None, 0.25, 0.25)\n",
        "    imgS = cv2.cvtColor(imgS, cv2.COLOR_BGR2RGB)\n",
        "\n",
        "    # get face region coordinates\n",
        "\n",
        "    facesCurFrame = face_recognition.face_locations(imgS)\n",
        "    encodesCurFrame = face_recognition.face_encodings(imgS, facesCurFrame)\n",
        "\n",
        "    for encodeFace, faceLoc in zip(encodesCurFrame, facesCurFrame):\n",
        "        matches = face_recognition.compare_faces(encodeListKnown, encodeFace)\n",
        "        faceDis = face_recognition.face_distance(encodeListKnown, encodeFace)\n",
        "        matchIndex = np.argmin(faceDis)\n",
        "\n",
        "        if matches[matchIndex]:\n",
        "          name = classNames[matchIndex].upper()\n",
        "          y1, x2, y2, x1 = faceLoc\n",
        "          y1, x2, y2, x1 = y1 * 4, x2 * 4, y2 * 4, x1 * 4\n",
        "          bbox_array = cv2.rectangle(bbox_array, (x1, y1), (x2, y2), (0, 255, 0), 2)\n",
        "          bbox_array = cv2.rectangle(bbox_array, (x1, y2 - 35), (x2, y2), (0, 255, 0), cv2.FILLED)\n",
        "          bbox_array = cv2.putText(bbox_array, name, (x1 + 4, y2 - 6), cv2.FONT_HERSHEY_PLAIN, 2, (255, 255, 255), 2)\n",
        "\n",
        "        else:\n",
        "          print(\"Face is not detecting\")\n",
        "\n",
        "    bbox_array[:,:,3] = (bbox_array.max(axis = 2) > 0 ).astype(int) * 255\n",
        "    # convert overlay of bbox into bytes\n",
        "    bbox_bytes = bbox_to_bytes(bbox_array)\n",
        "    # update bbox so next frame gets new overlay\n",
        "    bbox = bbox_bytes"
      ],
      "execution_count": 103,
      "outputs": [
        {
          "output_type": "display_data",
          "data": {
            "application/javascript": [
              "\n",
              "    var video;\n",
              "    var div = null;\n",
              "    var stream;\n",
              "    var captureCanvas;\n",
              "    var imgElement;\n",
              "    var labelElement;\n",
              "    \n",
              "    var pendingResolve = null;\n",
              "    var shutdown = false;\n",
              "    \n",
              "    function removeDom() {\n",
              "       stream.getVideoTracks()[0].stop();\n",
              "       video.remove();\n",
              "       div.remove();\n",
              "       video = null;\n",
              "       div = null;\n",
              "       stream = null;\n",
              "       imgElement = null;\n",
              "       captureCanvas = null;\n",
              "       labelElement = null;\n",
              "    }\n",
              "    \n",
              "    function onAnimationFrame() {\n",
              "      if (!shutdown) {\n",
              "        window.requestAnimationFrame(onAnimationFrame);\n",
              "      }\n",
              "      if (pendingResolve) {\n",
              "        var result = \"\";\n",
              "        if (!shutdown) {\n",
              "          captureCanvas.getContext('2d').drawImage(video, 0, 0, 640, 480);\n",
              "          result = captureCanvas.toDataURL('image/jpeg', 0.8)\n",
              "        }\n",
              "        var lp = pendingResolve;\n",
              "        pendingResolve = null;\n",
              "        lp(result);\n",
              "      }\n",
              "    }\n",
              "    \n",
              "    async function createDom() {\n",
              "      if (div !== null) {\n",
              "        return stream;\n",
              "      }\n",
              "\n",
              "      div = document.createElement('div');\n",
              "      div.style.border = '2px solid black';\n",
              "      div.style.padding = '3px';\n",
              "      div.style.width = '100%';\n",
              "      div.style.maxWidth = '600px';\n",
              "      document.body.appendChild(div);\n",
              "      \n",
              "      const modelOut = document.createElement('div');\n",
              "      modelOut.innerHTML = \"<span>Status:</span>\";\n",
              "      labelElement = document.createElement('span');\n",
              "      labelElement.innerText = 'No data';\n",
              "      labelElement.style.fontWeight = 'bold';\n",
              "      modelOut.appendChild(labelElement);\n",
              "      div.appendChild(modelOut);\n",
              "           \n",
              "      video = document.createElement('video');\n",
              "      video.style.display = 'block';\n",
              "      video.width = div.clientWidth - 6;\n",
              "      video.setAttribute('playsinline', '');\n",
              "      video.onclick = () => { shutdown = true; };\n",
              "      stream = await navigator.mediaDevices.getUserMedia(\n",
              "          {video: { facingMode: \"environment\"}});\n",
              "      div.appendChild(video);\n",
              "\n",
              "      imgElement = document.createElement('img');\n",
              "      imgElement.style.position = 'absolute';\n",
              "      imgElement.style.zIndex = 1;\n",
              "      imgElement.onclick = () => { shutdown = true; };\n",
              "      div.appendChild(imgElement);\n",
              "      \n",
              "      const instruction = document.createElement('div');\n",
              "      instruction.innerHTML = \n",
              "          '<span style=\"color: red; font-weight: bold;\">' +\n",
              "          'When finished, click here or on the video to stop this demo</span>';\n",
              "      div.appendChild(instruction);\n",
              "      instruction.onclick = () => { shutdown = true; };\n",
              "      \n",
              "      video.srcObject = stream;\n",
              "      await video.play();\n",
              "\n",
              "      captureCanvas = document.createElement('canvas');\n",
              "      captureCanvas.width = 640; //video.videoWidth;\n",
              "      captureCanvas.height = 480; //video.videoHeight;\n",
              "      window.requestAnimationFrame(onAnimationFrame);\n",
              "      \n",
              "      return stream;\n",
              "    }\n",
              "    async function stream_frame(label, imgData) {\n",
              "      if (shutdown) {\n",
              "        removeDom();\n",
              "        shutdown = false;\n",
              "        return '';\n",
              "      }\n",
              "\n",
              "      var preCreate = Date.now();\n",
              "      stream = await createDom();\n",
              "      \n",
              "      var preShow = Date.now();\n",
              "      if (label != \"\") {\n",
              "        labelElement.innerHTML = label;\n",
              "      }\n",
              "            \n",
              "      if (imgData != \"\") {\n",
              "        var videoRect = video.getClientRects()[0];\n",
              "        imgElement.style.top = videoRect.top + \"px\";\n",
              "        imgElement.style.left = videoRect.left + \"px\";\n",
              "        imgElement.style.width = videoRect.width + \"px\";\n",
              "        imgElement.style.height = videoRect.height + \"px\";\n",
              "        imgElement.src = imgData;\n",
              "      }\n",
              "      \n",
              "      var preCapture = Date.now();\n",
              "      var result = await new Promise(function(resolve, reject) {\n",
              "        pendingResolve = resolve;\n",
              "      });\n",
              "      shutdown = false;\n",
              "      \n",
              "      return {'create': preShow - preCreate, \n",
              "              'show': preCapture - preShow, \n",
              "              'capture': Date.now() - preCapture,\n",
              "              'img': result};\n",
              "    }\n",
              "    "
            ],
            "text/plain": [
              "<IPython.core.display.Javascript object>"
            ]
          },
          "metadata": {
            "tags": []
          }
        },
        {
          "output_type": "stream",
          "text": [
            "['Ertugrul.jpg', 'Ratul.jpg', 'Rittik.jpg']\n",
            "['Ertugrul', 'Ratul', 'Rittik']\n",
            "Encoding Complete\n"
          ],
          "name": "stdout"
        }
      ]
    },
    {
      "cell_type": "markdown",
      "metadata": {
        "id": "Sww8IDs3kyvs"
      },
      "source": [
        "## That's how it is done! Hope you have enjoyed this tutorial."
      ]
    },
    {
      "cell_type": "code",
      "metadata": {
        "id": "JXgJBDS9lovV"
      },
      "source": [
        ""
      ],
      "execution_count": 103,
      "outputs": []
    }
  ]
}